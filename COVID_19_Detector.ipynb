{
  "nbformat": 4,
  "nbformat_minor": 0,
  "metadata": {
    "colab": {
      "name": "  COVID-19 Detector",
      "provenance": [],
      "include_colab_link": true
    },
    "kernelspec": {
      "name": "python3",
      "display_name": "Python 3"
    }
  },
  "cells": [
    {
      "cell_type": "markdown",
      "metadata": {
        "id": "view-in-github",
        "colab_type": "text"
      },
      "source": [
        "<a href=\"https://colab.research.google.com/github/imanaqeel/Image-classifier-project/blob/main/COVID_19_Detector.ipynb\" target=\"_parent\"><img src=\"https://colab.research.google.com/assets/colab-badge.svg\" alt=\"Open In Colab\"/></a>"
      ]
    },
    {
      "cell_type": "markdown",
      "metadata": {
        "id": "4kZ-3YhB9Oyp"
      },
      "source": [
        "COVID-19 Classifier Model, based on : https://www.youtube.com/watch?v=nHQDDAAzIsI&feature=youtu.be \n"
      ]
    },
    {
      "cell_type": "markdown",
      "metadata": {
        "id": "jIburIdx9cxE"
      },
      "source": [
        "The heatmap generated shows high value of False Positives, and False Negatives, compared to the results obatined in the tutorial.\n",
        "This maybe due to a decreased no of 'steps_per_epochs' used from 8 to 5."
      ]
    },
    {
      "cell_type": "code",
      "metadata": {
        "colab": {
          "base_uri": "https://localhost:8080/"
        },
        "id": "KkGc2tl0Wi1T",
        "outputId": "6ae0484f-6c07-496c-fae8-a8694d4dff76"
      },
      "source": [
        "#Dataset : http://cb.lk/covid_19\n",
        "\n",
        "!wget http://cb.lk/covid_19\n"
      ],
      "execution_count": null,
      "outputs": [
        {
          "output_type": "stream",
          "text": [
            "--2021-02-28 18:04:26--  http://cb.lk/covid_19\n",
            "Resolving cb.lk (cb.lk)... 159.89.170.74\n",
            "Connecting to cb.lk (cb.lk)|159.89.170.74|:80... connected.\n",
            "HTTP request sent, awaiting response... 301 Moved Permanently\n",
            "Location: https://cb.lk/covid_19 [following]\n",
            "--2021-02-28 18:04:27--  https://cb.lk/covid_19\n",
            "Connecting to cb.lk (cb.lk)|159.89.170.74|:443... connected.\n",
            "HTTP request sent, awaiting response... 302 Found\n",
            "Location: https://www.dropbox.com/s/7rjw6oet4za01op/CovidDataset-20200427T133042Z-001.zip?dl=0 [following]\n",
            "--2021-02-28 18:04:27--  https://www.dropbox.com/s/7rjw6oet4za01op/CovidDataset-20200427T133042Z-001.zip?dl=0\n",
            "Resolving www.dropbox.com (www.dropbox.com)... 162.125.82.18, 2620:100:6032:18::a27d:5212\n",
            "Connecting to www.dropbox.com (www.dropbox.com)|162.125.82.18|:443... connected.\n",
            "HTTP request sent, awaiting response... 301 Moved Permanently\n",
            "Location: /s/raw/7rjw6oet4za01op/CovidDataset-20200427T133042Z-001.zip [following]\n",
            "--2021-02-28 18:04:28--  https://www.dropbox.com/s/raw/7rjw6oet4za01op/CovidDataset-20200427T133042Z-001.zip\n",
            "Reusing existing connection to www.dropbox.com:443.\n",
            "HTTP request sent, awaiting response... 302 Found\n",
            "Location: https://uce7ca670749eb41e5f9cc7f4287.dl.dropboxusercontent.com/cd/0/inline/BJzt_Y8ZKQQyMcaJGYLv5XJ5W6ocWXzytMcAFTUacPvCDulJBBkZjODylrPI3QU8_6N7hThLPkw1NGUlw1yI5k-ZBsAKFqYR4pXQhyOE-UgYGDdnQ_CTyxyIa_VARAXLhzE/file# [following]\n",
            "--2021-02-28 18:04:28--  https://uce7ca670749eb41e5f9cc7f4287.dl.dropboxusercontent.com/cd/0/inline/BJzt_Y8ZKQQyMcaJGYLv5XJ5W6ocWXzytMcAFTUacPvCDulJBBkZjODylrPI3QU8_6N7hThLPkw1NGUlw1yI5k-ZBsAKFqYR4pXQhyOE-UgYGDdnQ_CTyxyIa_VARAXLhzE/file\n",
            "Resolving uce7ca670749eb41e5f9cc7f4287.dl.dropboxusercontent.com (uce7ca670749eb41e5f9cc7f4287.dl.dropboxusercontent.com)... 162.125.80.15, 2620:100:6032:15::a27d:520f\n",
            "Connecting to uce7ca670749eb41e5f9cc7f4287.dl.dropboxusercontent.com (uce7ca670749eb41e5f9cc7f4287.dl.dropboxusercontent.com)|162.125.80.15|:443... connected.\n",
            "HTTP request sent, awaiting response... 302 Found\n",
            "Location: /cd/0/inline2/BJx8oqWlNvsTSWO8t0vc0Wd1hVcgopoKT2s1oeoCghs4uXJXqCPHPgj80nSrHcuHw8lDP2BQt1EvcL4tX7XM1-SwZhHKKDuCoCIRK9eAHhVMCEkqY9Yhkdray4Pa9nTKiLnzILXWRMzRwT7kXkREem4jxQILz__25XL-l5ndynKvRDL-YlN6x5QvinTh6EtCVKV7qtUywwCv1IAHb7TLc-EhDxKicmmNZEBJvW4iT6was4AsAnRpk80ReOSjmruyArbGiTINHO9FnPLvxM2FdNVNn-0bjzniZ9ff9x3-UYMTzZh1WsXRe94o9-UBVQDJdqZWpWUMq-vT_ygKA8Im0F-QrHlAwl514Er4iEe__C5_og/file [following]\n",
            "--2021-02-28 18:04:29--  https://uce7ca670749eb41e5f9cc7f4287.dl.dropboxusercontent.com/cd/0/inline2/BJx8oqWlNvsTSWO8t0vc0Wd1hVcgopoKT2s1oeoCghs4uXJXqCPHPgj80nSrHcuHw8lDP2BQt1EvcL4tX7XM1-SwZhHKKDuCoCIRK9eAHhVMCEkqY9Yhkdray4Pa9nTKiLnzILXWRMzRwT7kXkREem4jxQILz__25XL-l5ndynKvRDL-YlN6x5QvinTh6EtCVKV7qtUywwCv1IAHb7TLc-EhDxKicmmNZEBJvW4iT6was4AsAnRpk80ReOSjmruyArbGiTINHO9FnPLvxM2FdNVNn-0bjzniZ9ff9x3-UYMTzZh1WsXRe94o9-UBVQDJdqZWpWUMq-vT_ygKA8Im0F-QrHlAwl514Er4iEe__C5_og/file\n",
            "Reusing existing connection to uce7ca670749eb41e5f9cc7f4287.dl.dropboxusercontent.com:443.\n",
            "HTTP request sent, awaiting response... 200 OK\n",
            "Length: 140830621 (134M) [application/zip]\n",
            "Saving to: ‘covid_19’\n",
            "\n",
            "covid_19            100%[===================>] 134.31M  27.8MB/s    in 5.6s    \n",
            "\n",
            "2021-02-28 18:04:36 (23.8 MB/s) - ‘covid_19’ saved [140830621/140830621]\n",
            "\n"
          ],
          "name": "stdout"
        }
      ]
    },
    {
      "cell_type": "code",
      "metadata": {
        "colab": {
          "base_uri": "https://localhost:8080/"
        },
        "id": "ul-jEN0lXNl3",
        "outputId": "2477886c-4bf9-4d22-d34d-131765de8af5"
      },
      "source": [
        "  !unzip covid_19"
      ],
      "execution_count": null,
      "outputs": [
        {
          "output_type": "stream",
          "text": [
            "Archive:  covid_19\n",
            "replace CovidDataset/Val/Covid/88de9d8c39e946abd495b37cd07d89e5-6531-0.jpg? [y]es, [n]o, [A]ll, [N]one, [r]ename: "
          ],
          "name": "stdout"
        }
      ]
    },
    {
      "cell_type": "code",
      "metadata": {
        "id": "vv5uTkLRXpgL"
      },
      "source": [
        "TRAIN_PATH = \"CovidDataset/Train\"\n",
        "VAL_PATH = \"CovidDataset/Test\"\n"
      ],
      "execution_count": null,
      "outputs": []
    },
    {
      "cell_type": "code",
      "metadata": {
        "id": "Axg8JaUNYZe_"
      },
      "source": [
        "import numpy as np\n",
        "import matplotlib.pyplot as plt\n",
        "import keras\n",
        "from keras.layers import *\n",
        "from keras.models import *\n",
        "from keras.preprocessing import image\n",
        "import "
      ],
      "execution_count": null,
      "outputs": []
    },
    {
      "cell_type": "code",
      "metadata": {
        "id": "yzrcZLDjYuVP"
      },
      "source": [
        " #CNN Based model in keras\n",
        " #its gng to be a layer based type layered architecture\n",
        " #helpful bcoz ???\n",
        " #will build multiple cnn layers and then classification layers\n",
        " #32 feature extract, ie will extract 32 diff type of filters in 1st layer\n",
        " #less no of filter in lower layers as they can detect less no of features\n",
        " #as u go deeper in n/w receptive filed increases, features it extracts gets large no of...\n",
        "#kernel size in 3x3 ie standard choice\n",
        "\n",
        "model = Sequential()\n",
        " \n",
        "model.add(Conv2D(32,kernel_size=(3,3),activation='relu',input_shape=(224,224,3)))\n",
        "model.add(Conv2D(64,(3,3),activation='relu')) #adding 64 filters each of size 3x3\n",
        "model.add(MaxPooling2D(pool_size=(2,2))) #default size is 2,2\n",
        "\n",
        "model.add(Dropout(0.25))\n",
        "\n",
        "model.add(Conv2D(64,(3,3),activation='relu'))\n",
        "model.add(MaxPooling2D(pool_size=(2,2)))\n",
        "model.add(Dropout(0.25))\n",
        "\n",
        "model.add(Conv2D(128,(3,3),activation='relu'))\n",
        "model.add(MaxPooling2D(pool_size=(2,2)))\n",
        "model.add(Dropout(0.25))\n",
        "\n",
        "model.add(Flatten())\n",
        "model.add(Dense(64,activation='relu'))\n",
        "model.add(Dropout(0.5))\n",
        "model.add(Dense(1,activation='sigmoid')) \n",
        "\n",
        "model.compile(loss=keras.losses.binary_crossentropy,optimizer='adam', metrics=['accuracy'])\n",
        "\n",
        "\n",
        "\n",
        "\n",
        "\n"
      ],
      "execution_count": null,
      "outputs": []
    },
    {
      "cell_type": "markdown",
      "metadata": {
        "id": "hEhELSWgmKg_"
      },
      "source": [
        "# New Section"
      ]
    },
    {
      "cell_type": "code",
      "metadata": {
        "colab": {
          "base_uri": "https://localhost:8080/"
        },
        "id": "ChEqPGhNiIwh",
        "outputId": "176754ef-3d5b-4baf-ca6e-65a926b52d25"
      },
      "source": [
        "model.summary()"
      ],
      "execution_count": null,
      "outputs": [
        {
          "output_type": "stream",
          "text": [
            "Model: \"sequential_4\"\n",
            "_________________________________________________________________\n",
            "Layer (type)                 Output Shape              Param #   \n",
            "=================================================================\n",
            "conv2d_16 (Conv2D)           (None, 222, 222, 32)      896       \n",
            "_________________________________________________________________\n",
            "conv2d_17 (Conv2D)           (None, 220, 220, 64)      18496     \n",
            "_________________________________________________________________\n",
            "max_pooling2d_12 (MaxPooling (None, 110, 110, 64)      0         \n",
            "_________________________________________________________________\n",
            "dropout_16 (Dropout)         (None, 110, 110, 64)      0         \n",
            "_________________________________________________________________\n",
            "conv2d_18 (Conv2D)           (None, 108, 108, 64)      36928     \n",
            "_________________________________________________________________\n",
            "max_pooling2d_13 (MaxPooling (None, 54, 54, 64)        0         \n",
            "_________________________________________________________________\n",
            "dropout_17 (Dropout)         (None, 54, 54, 64)        0         \n",
            "_________________________________________________________________\n",
            "conv2d_19 (Conv2D)           (None, 52, 52, 128)       73856     \n",
            "_________________________________________________________________\n",
            "max_pooling2d_14 (MaxPooling (None, 26, 26, 128)       0         \n",
            "_________________________________________________________________\n",
            "dropout_18 (Dropout)         (None, 26, 26, 128)       0         \n",
            "_________________________________________________________________\n",
            "flatten_4 (Flatten)          (None, 86528)             0         \n",
            "_________________________________________________________________\n",
            "dense_8 (Dense)              (None, 64)                5537856   \n",
            "_________________________________________________________________\n",
            "dropout_19 (Dropout)         (None, 64)                0         \n",
            "_________________________________________________________________\n",
            "dense_9 (Dense)              (None, 1)                 65        \n",
            "=================================================================\n",
            "Total params: 5,668,097\n",
            "Trainable params: 5,668,097\n",
            "Non-trainable params: 0\n",
            "_________________________________________________________________\n"
          ],
          "name": "stdout"
        }
      ]
    },
    {
      "cell_type": "code",
      "metadata": {
        "colab": {
          "base_uri": "https://localhost:8080/"
        },
        "id": "kVI3KQ6sikL5",
        "outputId": "a6e2051e-8a97-4910-c881-7a85e92e0beb"
      },
      "source": [
        "#train frm scratch\n",
        "\n",
        "#adam is default choice\n",
        "#matrix is accuracy, ie we will do grad des optimization 4 adam, matrix on which we optimize model is gng 32 b class fic\n",
        "#DEEPER INTO MODEL NEED 2 INCRS NO OF CHANNELS, will find more complexfeatures in the object frm distance?\n",
        "train_datagen = image.ImageDataGenerator(\n",
        "    rescale = 1./255,\n",
        "    shear_range = 0.2,\n",
        "    zoom_range = 0.2,\n",
        "    horizontal_flip = True,\n",
        "\n",
        ")\n",
        "test_dataset = image.ImageDataGenerator(rescale=1./255)\n",
        "\n",
        "train_generator = train_datagen.flow_from_directory(\n",
        "    'CovidDataset/Train',\n",
        "    target_size = (224,224), #224 standard size, image net samples also based on this\n",
        "    batch_size = 32,\n",
        "    class_mode = 'binary') \n"
      ],
      "execution_count": null,
      "outputs": [
        {
          "output_type": "stream",
          "text": [
            "Found 224 images belonging to 2 classes.\n"
          ],
          "name": "stdout"
        }
      ]
    },
    {
      "cell_type": "code",
      "metadata": {
        "colab": {
          "base_uri": "https://localhost:8080/"
        },
        "id": "NR5m9k9tnASw",
        "outputId": "f6d7240e-da9c-489b-edf6-b32f81425653"
      },
      "source": [
        "train_generator.class_indices"
      ],
      "execution_count": null,
      "outputs": [
        {
          "output_type": "execute_result",
          "data": {
            "text/plain": [
              "{'Covid': 0, 'Normal': 1}"
            ]
          },
          "metadata": {
            "tags": []
          },
          "execution_count": 57
        }
      ]
    },
    {
      "cell_type": "code",
      "metadata": {
        "colab": {
          "base_uri": "https://localhost:8080/"
        },
        "id": "uhOgyNr7nOyi",
        "outputId": "16bc7ff9-7575-4d1f-f629-8644db020854"
      },
      "source": [
        "#i/p shape saying what size we will feed in u\n",
        "#bt then trget size is for shaping in2 trgt size\n",
        "\n",
        "\n",
        "#similar for validation genr.\n",
        "validation_generator = test_dataset.flow_from_directory(\n",
        "    'CovidDataset/Val',\n",
        "    target_size = (224,224), \n",
        "    batch_size = 32,\n",
        "    class_mode = 'binary')\n"
      ],
      "execution_count": null,
      "outputs": [
        {
          "output_type": "stream",
          "text": [
            "Found 60 images belonging to 2 classes.\n"
          ],
          "name": "stdout"
        }
      ]
    },
    {
      "cell_type": "code",
      "metadata": {
        "colab": {
          "base_uri": "https://localhost:8080/"
        },
        "id": "7CiknpwwsbGq",
        "outputId": "56dc781e-2368-4827-b0d1-b725aa7fc7bf"
      },
      "source": [
        "#how to find label for final img- auto, 80-20 split btwn val & train\n",
        "\n",
        "#far conversion- normalization\n",
        "\n",
        "hist = model.fit(\n",
        "    train_generator,\n",
        "    steps_per_epoch=5,\n",
        "    epochs = 10,\n",
        "    validation_data = validation_generator,\n",
        "    validation_steps=2\n",
        ")\n",
        "#trainin now starting\n",
        "\n"
      ],
      "execution_count": null,
      "outputs": [
        {
          "output_type": "stream",
          "text": [
            "Epoch 1/10\n",
            "5/5 [==============================] - 47s 9s/step - loss: 2.2084 - accuracy: 0.5312 - val_loss: 0.6718 - val_accuracy: 0.8333\n",
            "Epoch 2/10\n",
            "5/5 [==============================] - 45s 9s/step - loss: 0.6469 - accuracy: 0.6313 - val_loss: 0.6785 - val_accuracy: 0.5000\n",
            "Epoch 3/10\n",
            "5/5 [==============================] - 47s 9s/step - loss: 0.5841 - accuracy: 0.7312 - val_loss: 0.5632 - val_accuracy: 0.9000\n",
            "Epoch 4/10\n",
            "5/5 [==============================] - 47s 9s/step - loss: 0.4836 - accuracy: 0.7875 - val_loss: 0.3779 - val_accuracy: 0.9167\n",
            "Epoch 5/10\n",
            "5/5 [==============================] - 45s 9s/step - loss: 0.3786 - accuracy: 0.8562 - val_loss: 0.3603 - val_accuracy: 0.9167\n",
            "Epoch 6/10\n",
            "5/5 [==============================] - 45s 9s/step - loss: 0.3767 - accuracy: 0.8562 - val_loss: 0.3727 - val_accuracy: 0.8667\n",
            "Epoch 7/10\n",
            "5/5 [==============================] - 44s 9s/step - loss: 0.3229 - accuracy: 0.8813 - val_loss: 0.2448 - val_accuracy: 0.9667\n",
            "Epoch 8/10\n",
            "5/5 [==============================] - 45s 9s/step - loss: 0.2302 - accuracy: 0.9000 - val_loss: 0.1449 - val_accuracy: 0.9667\n",
            "Epoch 9/10\n",
            "5/5 [==============================] - 42s 8s/step - loss: 0.1889 - accuracy: 0.9312 - val_loss: 0.1266 - val_accuracy: 0.9500\n",
            "Epoch 10/10\n",
            "5/5 [==============================] - 42s 8s/step - loss: 0.1666 - accuracy: 0.9438 - val_loss: 0.0995 - val_accuracy: 0.9833\n"
          ],
          "name": "stdout"
        }
      ]
    },
    {
      "cell_type": "code",
      "metadata": {
        "id": "budMxOwktbY6"
      },
      "source": [
        "#grad map technique , class activation mapping, "
      ],
      "execution_count": null,
      "outputs": []
    },
    {
      "cell_type": "code",
      "metadata": {
        "id": "DagXFbcjzbac"
      },
      "source": [
        "#Confusion matrix: gives u prediction vs normal tl=h br=h rest=0"
      ],
      "execution_count": null,
      "outputs": []
    },
    {
      "cell_type": "code",
      "metadata": {
        "id": "6lMF3rVX1R3n"
      },
      "source": [
        "model.save(\"model_adv.h5\")"
      ],
      "execution_count": null,
      "outputs": []
    },
    {
      "cell_type": "code",
      "metadata": {
        "id": "1EXlluEt1XO5",
        "colab": {
          "base_uri": "https://localhost:8080/"
        },
        "outputId": "72865d8b-0a08-4884-b27d-0fadb0ef2030"
      },
      "source": [
        "model.evaluate(train_generator)"
      ],
      "execution_count": null,
      "outputs": [
        {
          "output_type": "stream",
          "text": [
            "7/7 [==============================] - 18s 3s/step - loss: 0.1266 - accuracy: 0.9688\n"
          ],
          "name": "stdout"
        },
        {
          "output_type": "execute_result",
          "data": {
            "text/plain": [
              "[0.12663152813911438, 0.96875]"
            ]
          },
          "metadata": {
            "tags": []
          },
          "execution_count": 61
        }
      ]
    },
    {
      "cell_type": "code",
      "metadata": {
        "id": "AuZN4ykQ1mFc",
        "colab": {
          "base_uri": "https://localhost:8080/"
        },
        "outputId": "1511f4b7-8674-4467-f917-29e966a01636"
      },
      "source": [
        "model.evaluate(validation_generator)"
      ],
      "execution_count": null,
      "outputs": [
        {
          "output_type": "stream",
          "text": [
            "2/2 [==============================] - 2s 885ms/step - loss: 0.0995 - accuracy: 0.9833\n"
          ],
          "name": "stdout"
        },
        {
          "output_type": "execute_result",
          "data": {
            "text/plain": [
              "[0.09954384714365005, 0.9833333492279053]"
            ]
          },
          "metadata": {
            "tags": []
          },
          "execution_count": 62
        }
      ]
    },
    {
      "cell_type": "code",
      "metadata": {
        "id": "U42n9ok3118G"
      },
      "source": [
        "#above indicating low loss"
      ],
      "execution_count": null,
      "outputs": []
    },
    {
      "cell_type": "code",
      "metadata": {
        "id": "-KXDkbT817Rd"
      },
      "source": [
        "model = load_model('model_adv.h5')"
      ],
      "execution_count": null,
      "outputs": []
    },
    {
      "cell_type": "code",
      "metadata": {
        "id": "FPDPevMV2FUw"
      },
      "source": [
        "import os"
      ],
      "execution_count": null,
      "outputs": []
    },
    {
      "cell_type": "code",
      "metadata": {
        "id": "MDSCO_Rw2Gzh",
        "colab": {
          "base_uri": "https://localhost:8080/"
        },
        "outputId": "766f14cc-0623-4d8d-ccfc-2e2558b5c788"
      },
      "source": [
        "train_generator.class_indices"
      ],
      "execution_count": null,
      "outputs": [
        {
          "output_type": "execute_result",
          "data": {
            "text/plain": [
              "{'Covid': 0, 'Normal': 1}"
            ]
          },
          "metadata": {
            "tags": []
          },
          "execution_count": 65
        }
      ]
    },
    {
      "cell_type": "code",
      "metadata": {
        "id": "Wl2sQjCT2J_Z"
      },
      "source": [
        "y_actual = []\n",
        "y_test = []"
      ],
      "execution_count": null,
      "outputs": []
    },
    {
      "cell_type": "code",
      "metadata": {
        "id": "mlzgr0bu2PEH"
      },
      "source": [
        "for i in os.listdir(\"./CovidDataset/Val/Normal/\"):\n",
        "  img = image.load_img('./CovidDataset/Val/Normal/'+i, target_size=(224,224))\n",
        "  img = image.img_to_array(img)\n",
        "  img = np.expand_dims(img, axis=0)\n",
        "  p = (model.predict(img) > 0.5).astype(int)\n",
        "  y_test.append(p[0,0])\n",
        "  y_actual.append(1)\n"
      ],
      "execution_count": null,
      "outputs": []
    },
    {
      "cell_type": "code",
      "metadata": {
        "id": "kpsKQYga7r_M",
        "colab": {
          "base_uri": "https://localhost:8080/"
        },
        "outputId": "bbc88d73-c0e0-41dd-ff4d-fc51b5818700"
      },
      "source": [
        "print(p)"
      ],
      "execution_count": null,
      "outputs": [
        {
          "output_type": "stream",
          "text": [
            "[[1]]\n"
          ],
          "name": "stdout"
        }
      ]
    },
    {
      "cell_type": "code",
      "metadata": {
        "id": "MkvVculT25KY"
      },
      "source": [
        "for i in os.listdir(\"./CovidDataset/Val/Covid/\"):\n",
        "  img = image.load_img('./CovidDataset/Val/Covid/'+i, target_size=(224,224))\n",
        "  img = image.img_to_array(img)\n",
        "  img = np.expand_dims(img, axis=0)\n",
        "  p = (model.predict(img) > 0.5).astype(int)\n",
        "  y_test.append(p[0,0])\n",
        "  y_actual.append(0)\n"
      ],
      "execution_count": null,
      "outputs": []
    },
    {
      "cell_type": "code",
      "metadata": {
        "id": "FAuBbQa37w90"
      },
      "source": [
        "print(p)"
      ],
      "execution_count": null,
      "outputs": []
    },
    {
      "cell_type": "code",
      "metadata": {
        "id": "TfjDkYrf311z"
      },
      "source": [
        "y_actual = np.array(y_actual)\n",
        "y_test = np.array(y_test)"
      ],
      "execution_count": null,
      "outputs": []
    },
    {
      "cell_type": "code",
      "metadata": {
        "id": "gfBtPpJE4nYn"
      },
      "source": [
        "from sklearn.metrics import confusion_matrix"
      ],
      "execution_count": null,
      "outputs": []
    },
    {
      "cell_type": "code",
      "metadata": {
        "id": "gkF1K2ue4r0D"
      },
      "source": [
        "cm = confusion_matrix(y_actual, y_test)"
      ],
      "execution_count": null,
      "outputs": []
    },
    {
      "cell_type": "code",
      "metadata": {
        "id": "Zxb85jP84y5M"
      },
      "source": [
        "import seaborn as sns"
      ],
      "execution_count": null,
      "outputs": []
    },
    {
      "cell_type": "code",
      "metadata": {
        "id": "YVKshF9q41O-",
        "colab": {
          "base_uri": "https://localhost:8080/",
          "height": 282
        },
        "outputId": "dc8c1428-3873-4774-ee9f-047ef984162a"
      },
      "source": [
        "sns.heatmap(cm, cmap=\"plasma\", annot=True)"
      ],
      "execution_count": null,
      "outputs": [
        {
          "output_type": "execute_result",
          "data": {
            "text/plain": [
              "<matplotlib.axes._subplots.AxesSubplot at 0x7f1f37149ac8>"
            ]
          },
          "metadata": {
            "tags": []
          },
          "execution_count": 75
        },
        {
          "output_type": "display_data",
          "data": {
            "image/png": "[encoded data removed]",
            "text/plain": [
              "<Figure size 432x288 with 2 Axes>"
            ]
          },
          "metadata": {
            "tags": [],
            "needs_background": "light"
          }
        }
      ]
    },
    {
      "cell_type": "code",
      "metadata": {
        "id": "9fr1-Ggt4745"
      },
      "source": [
        ""
      ],
      "execution_count": null,
      "outputs": []
    }
  ]
}